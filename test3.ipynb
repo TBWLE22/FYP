{
 "cells": [
  {
   "cell_type": "code",
   "execution_count": 32,
   "metadata": {},
   "outputs": [
    {
     "name": "stdout",
     "output_type": "stream",
     "text": [
      "Capturing packets for 10 seconds...\n"
     ]
    }
   ],
   "source": [
    "from scapy.all import sniff, IP, TCP, UDP\n",
    "import pandas as pd\n",
    "import numpy as np\n",
    "from collections import defaultdict\n",
    "import time\n",
    "\n",
    "flows = defaultdict(lambda: {\n",
    "    'timestamps': [],\n",
    "    'Total Fwd Packets': 0,\n",
    "    'Total Backward Packets': 0,\n",
    "    'Fwd Packets Length Total': 0,\n",
    "    'Bwd Packets Length Total': 0,\n",
    "    'Fwd Packet Lengths': [],\n",
    "    'Bwd Packet Lengths': [],\n",
    "    'Fwd IAT': [],\n",
    "    'Bwd IAT': [],\n",
    "    'Start Time': None,\n",
    "    'End Time': None,\n",
    "    'Protocol': None,\n",
    "    'Source IP': None,\n",
    "    'Destination IP': None\n",
    "})\n",
    "\n",
    "def process_packet(packet):\n",
    "    if IP in packet:\n",
    "        src_ip = packet[IP].src\n",
    "        dst_ip = packet[IP].dst\n",
    "        protocol = packet[IP].proto\n",
    "        src_port = None\n",
    "        dst_port = None\n",
    "\n",
    "        if TCP in packet:\n",
    "            src_port = packet[TCP].sport\n",
    "            dst_port = packet[TCP].dport\n",
    "        elif UDP in packet:\n",
    "            src_port = packet[UDP].sport\n",
    "            dst_port = packet[UDP].dport\n",
    "\n",
    "        flow_key = (src_ip, dst_ip, src_port, dst_port, protocol)\n",
    "\n",
    "        flows[flow_key]['timestamps'].append(packet.time)\n",
    "        flows[flow_key]['Protocol'] = protocol\n",
    "        flows[flow_key]['Source IP'] = src_ip\n",
    "        flows[flow_key]['Destination IP'] = dst_ip\n",
    "\n",
    "        if flows[flow_key]['Start Time'] is None:\n",
    "            flows[flow_key]['Start Time'] = packet.time\n",
    "        flows[flow_key]['End Time'] = packet.time\n",
    "\n",
    "        packet_length = len(packet)\n",
    "        if src_ip == flow_key[0]: \n",
    "            flows[flow_key]['Total Fwd Packets'] += 1\n",
    "            flows[flow_key]['Fwd Packets Length Total'] += packet_length\n",
    "            flows[flow_key]['Fwd Packet Lengths'].append(packet_length)\n",
    "            if len(flows[flow_key]['Fwd Packet Lengths']) > 1:\n",
    "                flows[flow_key]['Fwd IAT'].append(packet.time - flows[flow_key]['timestamps'][-2])\n",
    "        else:  \n",
    "            flows[flow_key]['Total Backward Packets'] += 1\n",
    "            flows[flow_key]['Bwd Packets Length Total'] += packet_length\n",
    "            flows[flow_key]['Bwd Packet Lengths'].append(packet_length)\n",
    "            if len(flows[flow_key]['Bwd Packet Lengths']) > 1:\n",
    "                flows[flow_key]['Bwd IAT'].append(packet.time - flows[flow_key]['timestamps'][-2])\n",
    "\n",
    "print(\"Capturing packets for 10 seconds...\")\n",
    "sniff(prn=process_packet, timeout=10)\n",
    "\n",
    "flow_data = []\n",
    "for flow_key, flow_info in flows.items():\n",
    "    if len(flow_info['timestamps']) == 0:\n",
    "        continue\n",
    "\n",
    "    flow_duration = flow_info['End Time'] - flow_info['Start Time']\n",
    "\n",
    "    fwd_packet_length_max = max(flow_info['Fwd Packet Lengths'], default=0)\n",
    "    fwd_packet_length_min = min(flow_info['Fwd Packet Lengths'], default=0)\n",
    "    fwd_packet_length_mean = np.mean(flow_info['Fwd Packet Lengths']) if flow_info['Fwd Packet Lengths'] else 0\n",
    "    fwd_packet_length_std = np.std(flow_info['Fwd Packet Lengths']) if flow_info['Fwd Packet Lengths'] else 0\n",
    "\n",
    "    bwd_packet_length_max = max(flow_info['Bwd Packet Lengths'], default=0)\n",
    "    bwd_packet_length_min = min(flow_info['Bwd Packet Lengths'], default=0)\n",
    "    bwd_packet_length_mean = np.mean(flow_info['Bwd Packet Lengths']) if flow_info['Bwd Packet Lengths'] else 0\n",
    "    bwd_packet_length_std = np.std(flow_info['Bwd Packet Lengths']) if flow_info['Bwd Packet Lengths'] else 0\n",
    "\n",
    "    fwd_iat_mean = np.mean(flow_info['Fwd IAT']) if flow_info['Fwd IAT'] else 0\n",
    "    fwd_iat_std = np.std(flow_info['Fwd IAT']) if flow_info['Fwd IAT'] else 0\n",
    "    fwd_iat_max = max(flow_info['Fwd IAT'], default=0)\n",
    "    fwd_iat_min = min(flow_info['Fwd IAT'], default=0)\n",
    "\n",
    "    bwd_iat_mean = np.mean(flow_info['Bwd IAT']) if flow_info['Bwd IAT'] else 0\n",
    "    bwd_iat_std = np.std(flow_info['Bwd IAT']) if flow_info['Bwd IAT'] else 0\n",
    "    bwd_iat_max = max(flow_info['Bwd IAT'], default=0)\n",
    "    bwd_iat_min = min(flow_info['Bwd IAT'], default=0)\n",
    "\n",
    "    flow_bytes_per_sec = (flow_info['Fwd Packets Length Total'] + flow_info['Bwd Packets Length Total']) / flow_duration if flow_duration > 0 else 0\n",
    "    flow_packets_per_sec = (flow_info['Total Fwd Packets'] + flow_info['Total Backward Packets']) / flow_duration if flow_duration > 0 else 0\n",
    "\n",
    "    flow_data.append({\n",
    "        'Protocol': flow_info['Protocol'],\n",
    "        'Flow Duration': flow_duration,\n",
    "        'Total Fwd Packets': flow_info['Total Fwd Packets'],\n",
    "        'Total Backward Packets': flow_info['Total Backward Packets'],\n",
    "        'Fwd Packets Length Total': flow_info['Fwd Packets Length Total'],\n",
    "        'Bwd Packets Length Total': flow_info['Bwd Packets Length Total'],\n",
    "        'Fwd Packet Length Max': fwd_packet_length_max,\n",
    "        'Fwd Packet Length Min': fwd_packet_length_min,\n",
    "        'Fwd Packet Length Mean': fwd_packet_length_mean,\n",
    "        'Fwd Packet Length Std': fwd_packet_length_std,\n",
    "        'Bwd Packet Length Max': bwd_packet_length_max,\n",
    "        'Bwd Packet Length Min': bwd_packet_length_min,\n",
    "        'Bwd Packet Length Mean': bwd_packet_length_mean,\n",
    "        'Bwd Packet Length Std': bwd_packet_length_std,\n",
    "        'Flow Bytes/s': flow_bytes_per_sec,\n",
    "        'Flow Packets/s': flow_packets_per_sec,\n",
    "        'Fwd IAT Mean': fwd_iat_mean,\n",
    "        'Fwd IAT Std': fwd_iat_std,\n",
    "        'Fwd IAT Max': fwd_iat_max,\n",
    "        'Fwd IAT Min': fwd_iat_min,\n",
    "        'Bwd IAT Mean': bwd_iat_mean,\n",
    "        'Bwd IAT Std': bwd_iat_std,\n",
    "        'Bwd IAT Max': bwd_iat_max,\n",
    "        'Bwd IAT Min': bwd_iat_min,\n",
    "        'Source IP': flow_info['Source IP'],\n",
    "        'Destination IP': flow_info['Destination IP']\n",
    "    })\n",
    "\n",
    "flow_df = pd.DataFrame(flow_data)"
   ]
  },
  {
   "cell_type": "code",
   "execution_count": 39,
   "metadata": {},
   "outputs": [],
   "source": [
    "flow_df.head().to_csv('flow_data.csv', index=False)"
   ]
  },
  {
   "cell_type": "code",
   "execution_count": 36,
   "metadata": {},
   "outputs": [
    {
     "data": {
      "text/plain": [
       "Index(['Protocol', 'Flow Duration', 'Total Fwd Packets',\n",
       "       'Total Backward Packets', 'Fwd Packets Length Total',\n",
       "       'Bwd Packets Length Total', 'Fwd Packet Length Max',\n",
       "       'Fwd Packet Length Min', 'Fwd Packet Length Mean',\n",
       "       'Fwd Packet Length Std', 'Bwd Packet Length Max',\n",
       "       'Bwd Packet Length Min', 'Bwd Packet Length Mean',\n",
       "       'Bwd Packet Length Std', 'Flow Bytes/s', 'Flow Packets/s',\n",
       "       'Fwd IAT Mean', 'Fwd IAT Std', 'Fwd IAT Max', 'Fwd IAT Min',\n",
       "       'Bwd IAT Mean', 'Bwd IAT Std', 'Bwd IAT Max', 'Bwd IAT Min',\n",
       "       'Source IP', 'Destination IP'],\n",
       "      dtype='object')"
      ]
     },
     "execution_count": 36,
     "metadata": {},
     "output_type": "execute_result"
    }
   ],
   "source": [
    "flow_df.columns"
   ]
  },
  {
   "cell_type": "code",
   "execution_count": 28,
   "metadata": {},
   "outputs": [
    {
     "data": {
      "text/plain": [
       "Index(['src_ip', 'dst_ip', 'protocol', 'flow_duration', 'total_fwd_packets',\n",
       "       'total_bwd_packets', 'fwd_packets_length_total',\n",
       "       'bwd_packets_length_total', 'fwd_packet_length_max',\n",
       "       'fwd_packet_length_min', 'fwd_packet_length_mean',\n",
       "       'fwd_packet_length_std', 'bwd_packet_length_max',\n",
       "       'bwd_packet_length_min', 'bwd_packet_length_mean',\n",
       "       'bwd_packet_length_std', 'flow_bytes_per_sec', 'flow_packets_per_sec',\n",
       "       'fwd_iat_mean', 'fwd_iat_std', 'fwd_iat_max', 'fwd_iat_min',\n",
       "       'bwd_iat_mean', 'bwd_iat_std', 'bwd_iat_max', 'bwd_iat_min'],\n",
       "      dtype='object')"
      ]
     },
     "execution_count": 28,
     "metadata": {},
     "output_type": "execute_result"
    }
   ],
   "source": [
    "flow_df.columns"
   ]
  }
 ],
 "metadata": {
  "kernelspec": {
   "display_name": "ipspoofing",
   "language": "python",
   "name": "python3"
  },
  "language_info": {
   "codemirror_mode": {
    "name": "ipython",
    "version": 3
   },
   "file_extension": ".py",
   "mimetype": "text/x-python",
   "name": "python",
   "nbconvert_exporter": "python",
   "pygments_lexer": "ipython3",
   "version": "3.12.4"
  }
 },
 "nbformat": 4,
 "nbformat_minor": 2
}
