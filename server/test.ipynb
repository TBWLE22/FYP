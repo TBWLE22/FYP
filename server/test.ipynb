{
 "cells": [
  {
   "cell_type": "code",
   "execution_count": 1,
   "metadata": {},
   "outputs": [
    {
     "name": "stdout",
     "output_type": "stream",
     "text": [
      "Your private IP address is: 192.168.1.73\n"
     ]
    }
   ],
   "source": [
    "import socket\n",
    "\n",
    "# Get the local IP address\n",
    "hostname = socket.gethostname()\n",
    "private_ip = socket.gethostbyname(hostname)\n",
    "\n",
    "print(f\"Your private IP address is: {private_ip}\")\n"
   ]
  }
 ],
 "metadata": {
  "kernelspec": {
   "display_name": "fusemachines",
   "language": "python",
   "name": "python3"
  },
  "language_info": {
   "codemirror_mode": {
    "name": "ipython",
    "version": 3
   },
   "file_extension": ".py",
   "mimetype": "text/x-python",
   "name": "python",
   "nbconvert_exporter": "python",
   "pygments_lexer": "ipython3",
   "version": "3.12.4"
  }
 },
 "nbformat": 4,
 "nbformat_minor": 2
}
